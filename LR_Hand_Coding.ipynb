{
 "cells": [
  {
   "cell_type": "markdown",
   "metadata": {},
   "source": [
    "## Importing libraries"
   ]
  },
  {
   "cell_type": "code",
   "execution_count": 1,
   "metadata": {},
   "outputs": [],
   "source": [
    "import numpy as np\n",
    "import matplotlib.pyplot as plt\n",
    "import pandas as pd\n",
    "import math"
   ]
  },
  {
   "cell_type": "markdown",
   "metadata": {},
   "source": [
    "## Reading, preprocessing, and splitting the dataset into the training and test set"
   ]
  },
  {
   "cell_type": "markdown",
   "metadata": {},
   "source": [
    "For data preprocessing, we standardize features by removing the mean and scaling to unit variance. This generally helps the gradient descent algorithm converge faster."
   ]
  },
  {
   "cell_type": "code",
   "execution_count": 2,
   "metadata": {},
   "outputs": [],
   "source": [
    "#importing the dataset\n",
    "dataset = pd.read_excel('sEMG_dataset.xlsx')\n",
    "X = dataset.iloc[:,0:6].values\n",
    "y = dataset.iloc[:,6].values\n",
    "\n",
    "#Feature scaling\n",
    "X = np.transpose(np.array([(X[:,i]-np.mean(X[:,i]))/(np.std(X[:,i])) for i in range(X.shape[1])]))\n",
    "\n",
    "#splitting the dataset into the training set and test set\n",
    "test_size = 0.25\n",
    "\n",
    "ds = np.concatenate((X, y[:,np.newaxis]), axis=1)\n",
    "\n",
    "ds_shuffle = np.random.permutation(ds)\n",
    "X_val = ds_shuffle[:math.ceil(test_size*ds_shuffle.shape[0]),0:6]\n",
    "y_val = ds_shuffle[:math.ceil(test_size*ds_shuffle.shape[0]),6]    \n",
    "X_train = ds_shuffle[math.ceil(test_size*ds_shuffle.shape[0]):,0:6]\n",
    "y_train = ds_shuffle[math.ceil(test_size*ds_shuffle.shape[0]):,6]"
   ]
  },
  {
   "cell_type": "markdown",
   "metadata": {},
   "source": [
    "### Defining some variables and parameters"
   ]
  },
  {
   "cell_type": "code",
   "execution_count": 3,
   "metadata": {},
   "outputs": [],
   "source": [
    "num_training_examples = X_train.shape[0]\n",
    "num_features = X_train.shape[1]\n",
    "bias = np.ones((num_training_examples, 1))\n",
    "X_train = np.append(bias, X_train, axis=1)\n",
    "bias = np.ones((X_val.shape[0], 1))\n",
    "X_val = np.append(bias, X_val, axis=1)\n",
    "theta = np.random.rand(num_features+1, 1)\n",
    "grad = np.zeros((num_features+1, 1))\n",
    "J=0"
   ]
  },
  {
   "cell_type": "markdown",
   "metadata": {},
   "source": [
    "### Hyperparameters"
   ]
  },
  {
   "cell_type": "markdown",
   "metadata": {},
   "source": [
    "we set the hyperparameters of the learning rate, regularization factor, and the number of iterations before training begins and the learning algorithm uses them to learn the parameters. "
   ]
  },
  {
   "cell_type": "code",
   "execution_count": 4,
   "metadata": {},
   "outputs": [],
   "source": [
    "#hyperparameters\n",
    "num_iter = 6000\n",
    "eta = 0.1\n",
    "lambdaa = 1\n",
    "cost_function = []"
   ]
  },
  {
   "cell_type": "markdown",
   "metadata": {},
   "source": [
    "## Training"
   ]
  },
  {
   "cell_type": "markdown",
   "metadata": {},
   "source": [
    "Here to represent the hypothesis form, implement gradients calculation, and weight updates (gradient descent), **we use just numpy.** "
   ]
  },
  {
   "cell_type": "code",
   "execution_count": 5,
   "metadata": {},
   "outputs": [
    {
     "data": {
      "text/plain": [
       "[<matplotlib.lines.Line2D at 0x24ba911bcc8>]"
      ]
     },
     "execution_count": 5,
     "metadata": {},
     "output_type": "execute_result"
    },
    {
     "data": {
      "image/png": "[encoded data removed]",
      "text/plain": [
       "<Figure size 432x288 with 1 Axes>"
      ]
     },
     "metadata": {
      "needs_background": "light"
     },
     "output_type": "display_data"
    }
   ],
   "source": [
    "#Gradient descent\n",
    "for i in range(num_iter):\n",
    "    \n",
    "    #some calculations\n",
    "    h = 1/(1+np.exp(-1* np.dot(X_train,theta)))\n",
    "    regularization_term = ((sum((theta[1:])**2))*lambdaa)/(2*num_training_examples)\n",
    "    \n",
    "    J = (np.dot(-1*np.transpose(y_train[:,np.newaxis]),np.log(h))-\n",
    "         np.dot(np.transpose((1-y_train[:,np.newaxis])),np.log(1-h)))/num_training_examples\n",
    "         \n",
    "    J = J + regularization_term     \n",
    "    \n",
    "    grad[0]= (sum(h - y_train[:,np.newaxis]))/num_training_examples\n",
    "    \n",
    "    grad[1:]= (np.dot(np.transpose(X_train[:,1:]),(h-y_train[:,np.newaxis]))+\n",
    "               lambdaa* theta[1:])/num_training_examples\n",
    "               \n",
    "    #updating parameters\n",
    "    \n",
    "    theta[0] = theta[0]- eta* grad[0]\n",
    "    theta[1:] = theta[1:] - eta* grad[1:]\n",
    "    cost_function.append(np.squeeze(J))\n",
    "\n",
    "plt.xlabel('Steps')\n",
    "plt.ylabel('Cost')\n",
    "plt.grid(True)\n",
    "plt.plot(range(num_iter),cost_function)"
   ]
  },
  {
   "cell_type": "markdown",
   "metadata": {},
   "source": [
    "## Making predictions"
   ]
  },
  {
   "cell_type": "code",
   "execution_count": 6,
   "metadata": {},
   "outputs": [],
   "source": [
    "y_pr_list = [1 if 1/(1+np.exp(-1* np.dot(X_val[i],theta)))>=0.5 else 0 for i in range(y_val.shape[0])]\n",
    "y_pred = np.array(y_pr_list)"
   ]
  },
  {
   "cell_type": "markdown",
   "metadata": {},
   "source": [
    "## Evaluation"
   ]
  },
  {
   "cell_type": "code",
   "execution_count": 7,
   "metadata": {},
   "outputs": [
    {
     "name": "stdout",
     "output_type": "stream",
     "text": [
      "confusion_matrix: [[365. 179.]\n",
      " [165. 312.]]\n",
      "accuracy: 0.66307541625857\n"
     ]
    }
   ],
   "source": [
    "#Making the Confusion Matrix\n",
    "cm = np.zeros((2,2))\n",
    "for i in range(y_pred.shape[0]):\n",
    "    if y_pred[i]==0 and y_val[i]==0:\n",
    "        cm[0][0]+=1\n",
    "    if y_pred[i]==1 and y_val[i]==0:\n",
    "        cm[0][1]+=1    \n",
    "    if y_pred[i]==0 and y_val[i]==1:\n",
    "        cm[1][0]+=1\n",
    "    if y_pred[i]==1 and y_val[i]==1:\n",
    "        cm[1][1]+=1\n",
    "    \n",
    "accuracy = (cm[0][0]+cm[1][1])/y_pred.shape[0]\n",
    "print('confusion_matrix:', cm)\n",
    "print('accuracy:', accuracy)    "
   ]
  }
 ],
 "metadata": {
  "kernelspec": {
   "display_name": "Python 3",
   "language": "python",
   "name": "python3"
  },
  "language_info": {
   "codemirror_mode": {
    "name": "ipython",
    "version": 3
   },
   "file_extension": ".py",
   "mimetype": "text/x-python",
   "name": "python",
   "nbconvert_exporter": "python",
   "pygments_lexer": "ipython3",
   "version": "3.7.7"
  }
 },
 "nbformat": 4,
 "nbformat_minor": 4
}
