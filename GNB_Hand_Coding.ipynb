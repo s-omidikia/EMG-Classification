{
 "cells": [
  {
   "cell_type": "markdown",
   "metadata": {},
   "source": [
    "## Importing libraries"
   ]
  },
  {
   "cell_type": "code",
   "execution_count": 1,
   "metadata": {},
   "outputs": [],
   "source": [
    "import numpy as np\n",
    "import matplotlib.pyplot as plt\n",
    "import pandas as pd\n",
    "import math"
   ]
  },
  {
   "cell_type": "markdown",
   "metadata": {},
   "source": [
    "## Reading, preprocessing, and splitting the dataset into the training and test set"
   ]
  },
  {
   "cell_type": "markdown",
   "metadata": {},
   "source": [
    "For data preprocessing, we standardize features by removing the mean and scaling to unit variance."
   ]
  },
  {
   "cell_type": "code",
   "execution_count": 2,
   "metadata": {},
   "outputs": [],
   "source": [
    "#importing the dataset\n",
    "dataset = pd.read_excel('sEMG_dataset.xlsx')\n",
    "X = dataset.iloc[:,0:6].values\n",
    "y = dataset.iloc[:,6].values\n",
    "\n",
    "#Feature scaling\n",
    "X = np.transpose(np.array([(X[:,i]-np.mean(X[:,i]))/(np.std(X[:,i])) for i in range(X.shape[1])]))\n",
    "\n",
    "#splitting the dataset into the training set and test set\n",
    "test_size = 0.25\n",
    "\n",
    "ds = np.concatenate((X, y[:,np.newaxis]), axis=1)\n",
    "\n",
    "ds_shuffle = np.random.permutation(ds)\n",
    "X_val = ds_shuffle[:math.ceil(test_size*ds_shuffle.shape[0]),0:6]\n",
    "y_val = ds_shuffle[:math.ceil(test_size*ds_shuffle.shape[0]),6]    \n",
    "X_train = ds_shuffle[math.ceil(test_size*ds_shuffle.shape[0]):,0:6]\n",
    "y_train = ds_shuffle[math.ceil(test_size*ds_shuffle.shape[0]):,6]\n"
   ]
  },
  {
   "cell_type": "markdown",
   "metadata": {},
   "source": [
    "## Training (parameter calculation)"
   ]
  },
  {
   "cell_type": "markdown",
   "metadata": {},
   "source": [
    "1. In the training process, we must calculate some parameters based on training data. The first step is calculating each class probability. \n",
    "2. In order to do so, we separate the training data belonging to class1 from those belonging to class0. The number of training data points belonging to class1 divided by the total number of training data points indicates class1 probability. Similarly, class0 probability is calculated. \n",
    "3. Gaussian Naïve Bayes training algorithm assumes that each data conditional probability follows a Gaussian distribution that for the purpose of training the algorithm each of both mean and variance parameters must be calculated.(Another assumption is about the conditional independence of data given classes.)"
   ]
  },
  {
   "cell_type": "code",
   "execution_count": 3,
   "metadata": {},
   "outputs": [],
   "source": [
    "##separating the data points with the class0 from class1\n",
    "\n",
    "inx1 = [i for (i, val) in enumerate(y_train) if val == 1]\n",
    "X_train_class1 = np.empty((len(inx1),6))\n",
    "k=0\n",
    "for j in inx1 :\n",
    "    X_train_class1[k,:] = X_train[j,:]\n",
    "    k = k+1\n",
    "\n",
    "inx0 = [i for (i, val) in enumerate(y_train) if val == 0]\n",
    "X_train_class0 = np.empty((len(inx0),6))\n",
    "k=0\n",
    "for j in inx0 :\n",
    "    X_train_class0[k,:] = X_train[j,:]\n",
    "    k = k+1\n",
    "\n",
    "##parameter calculation\n",
    "\n",
    "num_features = X_train.shape[1]\n",
    "num_training_examples = X_train.shape[0]\n",
    "\n",
    "mu_i0 = [np.mean(X_train_class0[:,i]) for i in range(num_features)]\n",
    "mu_i1 = [np.mean(X_train_class1[:,i]) for i in range(num_features)]\n",
    "sigma2_i0 = [np.var(X_train_class0[:,i]) for i in range(num_features)]\n",
    "sigma2_i1 = [np.var(X_train_class1[:,i]) for i in range(num_features)]\n",
    "\n",
    "p_class0 = X_train_class0.shape[0] / num_training_examples\n",
    "p_class1 = X_train_class1.shape[0] / num_training_examples"
   ]
  },
  {
   "cell_type": "markdown",
   "metadata": {},
   "source": [
    "## Making predictions"
   ]
  },
  {
   "cell_type": "markdown",
   "metadata": {},
   "source": [
    "In this section, the GNB model will make predictions on the test set based on the parameters calculated in the previous step and by using the Naive Bayes classification rule. \n",
    "We are interested in the most probable value of class label(Y), so we have the Naive Bayes classification rule which is based on the Bayes rule and a set of conditional independence assumptions:"
   ]
  },
  {
   "attachments": {
    "image.png": {
     "image/png": "[encoded data removed]"
    }
   },
   "cell_type": "markdown",
   "metadata": {},
   "source": [
    "![image.png](attachment:image.png)"
   ]
  },
  {
   "cell_type": "markdown",
   "metadata": {},
   "source": [
    "which simplifies to the following (because the denominator does not depend on yk)."
   ]
  },
  {
   "attachments": {
    "image.png": {
     "image/png": "[encoded data removed]"
    }
   },
   "cell_type": "markdown",
   "metadata": {},
   "source": [
    "![image.png](attachment:image.png)"
   ]
  },
  {
   "cell_type": "code",
   "execution_count": 4,
   "metadata": {},
   "outputs": [],
   "source": [
    "#prediction\n",
    "y_pred = np.empty(y_val.shape[0])\n",
    "for i in range(X_val.shape[0]):\n",
    "    p0=1\n",
    "    p1=1\n",
    "    for k in range(X_val.shape[1]):\n",
    "        p0 = p0*((math.exp(((X_val[i][k]-mu_i0[k])**2)/\n",
    "                           (-2 * sigma2_i0[k])))/(math.sqrt(2*np.pi*sigma2_i0[k])))\n",
    "        p1 = p1*((math.exp(((X_val[i][k]-mu_i1[k])**2)/\n",
    "                           (-2 * sigma2_i1[k])))/(math.sqrt(2*np.pi*sigma2_i1[k])))\n",
    "        \n",
    "    p0 = p_class0*p0\n",
    "    p1 = p_class1*p1\n",
    "    if p1>p0:\n",
    "        y_pred[i]=1\n",
    "    else:\n",
    "        y_pred[i]=0"
   ]
  },
  {
   "cell_type": "markdown",
   "metadata": {},
   "source": [
    "## Evalustion"
   ]
  },
  {
   "cell_type": "code",
   "execution_count": 5,
   "metadata": {},
   "outputs": [
    {
     "name": "stdout",
     "output_type": "stream",
     "text": [
      "confusion_matrix: [[240. 271.]\n",
      " [107. 403.]]\n",
      "accuracy: 0.6297747306562194\n"
     ]
    }
   ],
   "source": [
    "#Making the Confusion Matrix\n",
    "cm = np.zeros((2,2))\n",
    "for i in range(y_pred.shape[0]):\n",
    "    if y_pred[i]==0 and y_val[i]==0:\n",
    "        cm[0][0]+=1\n",
    "    if y_pred[i]==1 and y_val[i]==0:\n",
    "        cm[0][1]+=1    \n",
    "    if y_pred[i]==0 and y_val[i]==1:\n",
    "        cm[1][0]+=1\n",
    "    if y_pred[i]==1 and y_val[i]==1:\n",
    "        cm[1][1]+=1\n",
    "    \n",
    "accuracy = (cm[0][0]+cm[1][1])/y_pred.shape[0]\n",
    "print('confusion_matrix:', cm)\n",
    "print('accuracy:', accuracy)    "
   ]
  }
 ],
 "metadata": {
  "kernelspec": {
   "display_name": "Python 3",
   "language": "python",
   "name": "python3"
  },
  "language_info": {
   "codemirror_mode": {
    "name": "ipython",
    "version": 3
   },
   "file_extension": ".py",
   "mimetype": "text/x-python",
   "name": "python",
   "nbconvert_exporter": "python",
   "pygments_lexer": "ipython3",
   "version": "3.7.7"
  }
 },
 "nbformat": 4,
 "nbformat_minor": 4
}
